{
  "nbformat": 4,
  "nbformat_minor": 0,
  "metadata": {
    "colab": {
      "name": "P2_Integrators_7496_new_new.ipynb",
      "provenance": [],
      "collapsed_sections": []
    },
    "kernelspec": {
      "name": "python3",
      "display_name": "Python 3"
    },
    "accelerator": "GPU"
  },
  "cells": [
    {
      "cell_type": "markdown",
      "metadata": {
        "id": "Cn_HGpM3XPa1",
        "colab_type": "text"
      },
      "source": [
        "# CS 4496/7496 Character Animation (Spring 2020)\n",
        "Copyright (c) Georgia Institute of Technology\n",
        "\n",
        "---\n"
      ]
    },
    {
      "cell_type": "markdown",
      "metadata": {
        "id": "Bl36Lnh6YcbQ",
        "colab_type": "text"
      },
      "source": [
        "# Project 2: Integrators (due 2/17/2020, 11:55PM)\n",
        "\n",
        "![The Leaning Tower of Pisa, Wikipedia](https://upload.wikimedia.org/wikipedia/commons/thumb/6/66/The_Leaning_Tower_of_Pisa_SB.jpeg/340px-The_Leaning_Tower_of_Pisa_SB.jpeg)\n",
        "\n",
        "You are standing at the top of the Leaning Tower of Pisa. Just like Galileo, you are trying to convince people that your numerical integrator is accurate by dropping two balls with equal mass from the tower. One ball follows the analytical equation of free-fall motion while the other one is simulated by your particle system. Your goal is to show that they reach the ground at the same time.\n",
        "\n",
        "In your program, you will implement an analytical solution and two numerical integration methods: Explicit Euler and Midpoint. Show that one of them yields the same motion as the analytical solution, while the other one does not.\n",
        "\n",
        "In your results, show three objects side-by-side falling from the same height at the same time with zero initial velocity. Render the object that follows the analytical solution as a red sphere, the object that follows Euler method as a green sphere, and the object following Midpoint method as a blue spehere.\n",
        "\n",
        "Skeleton code for visualization has already been provided.\n",
        "\n",
        "PyBullet documentation: https://docs.google.com/document/d/10sXEhzFRSnvFcl3XxNGhnD4N2SedqwdAvK3dsihxVUA/edit#\n",
        "\n",
        "Useful functions: getBasePositionAndOrientation, resetBasePositionAndOrientation, getBaseVelocity, resetBaseVelocity. "
      ]
    },
    {
      "cell_type": "code",
      "metadata": {
        "id": "rBnCSSvSu9Gp",
        "colab_type": "code",
        "outputId": "980df362-9f6e-4a81-e13f-bbf4b2c5a97a",
        "colab": {
          "base_uri": "https://localhost:8080/",
          "height": 255
        }
      },
      "source": [
        "# Install pybullet and related requirements\n",
        "!apt-get install -y xvfb python-opengl ffmpeg\n",
        "!pip install pybullet\n",
        "!pip install ffmpeg-python"
      ],
      "execution_count": 70,
      "outputs": [
        {
          "output_type": "stream",
          "text": [
            "Reading package lists... Done\n",
            "Building dependency tree       \n",
            "Reading state information... Done\n",
            "python-opengl is already the newest version (3.1.0+dfsg-1).\n",
            "ffmpeg is already the newest version (7:3.4.6-0ubuntu0.18.04.1).\n",
            "xvfb is already the newest version (2:1.19.6-1ubuntu4.3).\n",
            "The following package was automatically installed and is no longer required:\n",
            "  libnvidia-common-430\n",
            "Use 'apt autoremove' to remove it.\n",
            "0 upgraded, 0 newly installed, 0 to remove and 25 not upgraded.\n",
            "Requirement already satisfied: pybullet in /usr/local/lib/python3.6/dist-packages (2.6.5)\n",
            "Requirement already satisfied: numpy in /usr/local/lib/python3.6/dist-packages (from pybullet) (1.17.5)\n",
            "Requirement already satisfied: ffmpeg-python in /usr/local/lib/python3.6/dist-packages (0.2.0)\n",
            "Requirement already satisfied: future in /usr/local/lib/python3.6/dist-packages (from ffmpeg-python) (0.16.0)\n"
          ],
          "name": "stdout"
        }
      ]
    },
    {
      "cell_type": "markdown",
      "metadata": {
        "id": "BczgOCbrXMp8",
        "colab_type": "text"
      },
      "source": [
        "# 1. Skeleton code (do not edit)\n",
        "### 1.1. Import required libraries"
      ]
    },
    {
      "cell_type": "code",
      "metadata": {
        "id": "yobnZUPRYAfi",
        "colab_type": "code",
        "colab": {}
      },
      "source": [
        "import pybullet as p\n",
        "import pybullet_data as pd\n",
        "import time\n",
        "import ffmpeg\n",
        "import glob\n",
        "import io\n",
        "import base64\n",
        "from IPython.display import HTML\n",
        "from IPython import display as ipythondisplay\n",
        "from PIL import Image\n",
        "import numpy as np"
      ],
      "execution_count": 0,
      "outputs": []
    },
    {
      "cell_type": "markdown",
      "metadata": {
        "id": "_pgnTiL0YDnT",
        "colab_type": "text"
      },
      "source": [
        "### 1.2. Initialize Camera and PyBullet Parameters"
      ]
    },
    {
      "cell_type": "code",
      "metadata": {
        "id": "S6ZdGcxzYKRs",
        "colab_type": "code",
        "colab": {}
      },
      "source": [
        "# Initialize Camera\n",
        "pixelWidth, pixelHeight = 640, 360\n",
        "viewMatrix = p.computeViewMatrixFromYawPitchRoll(cameraTargetPosition=[0, 0, 5.0], distance=10.0, yaw=0.0, pitch=0.0, roll=0.0, upAxisIndex=2)\n",
        "projectionMatrix = p.computeProjectionMatrixFOV(fov=60, aspect=pixelWidth / pixelHeight, nearVal=0.01, farVal=100)\n",
        "# Initialize PyBullet parameters\n",
        "p.connect(p.DIRECT)\n",
        "p.setAdditionalSearchPath(pd.getDataPath())\n",
        "p.resetSimulation()\n",
        "flags = p.URDF_INITIALIZE_SAT_FEATURES"
      ],
      "execution_count": 0,
      "outputs": []
    },
    {
      "cell_type": "markdown",
      "metadata": {
        "id": "DjODj_35Z4yj",
        "colab_type": "text"
      },
      "source": [
        "### 1.3. Load PyBullet objects and initialize required parameters"
      ]
    },
    {
      "cell_type": "code",
      "metadata": {
        "id": "PsBvpiFCw8ub",
        "colab_type": "code",
        "colab": {}
      },
      "source": [
        "# Load objects\n",
        "plane = p.loadURDF('plane.urdf', [0, 0, 0], flags=flags, useFixedBase=True)\n",
        "initial_height = 10.0\n",
        "# Red Sphere - Analytical\n",
        "obj1Shape = p.createVisualShape(shapeType=p.GEOM_MESH, fileName=\"sphere_smooth.obj\", meshScale=[0.25, 0.25, 0.25], rgbaColor=[1, 0, 0, 1])\n",
        "obj1 = p.createMultiBody(baseMass=1, baseVisualShapeIndex=obj1Shape, basePosition=[0.0, 0.0, initial_height], flags=flags)\n",
        "# Green sphere - Euler\n",
        "obj2Shape = p.createVisualShape(shapeType=p.GEOM_MESH, fileName=\"sphere_smooth.obj\", meshScale=[0.25, 0.25, 0.25], rgbaColor=[0, 1, 0, 1])\n",
        "obj2 = p.createMultiBody(baseMass=1, baseVisualShapeIndex=obj2Shape, basePosition=[1.0, 0.0, initial_height], flags=flags)\n",
        "# Blue sphere - Midpoint\n",
        "obj3Shape = p.createVisualShape(shapeType=p.GEOM_MESH, fileName=\"sphere_smooth.obj\", meshScale=[0.25, 0.25, 0.25], rgbaColor=[0, 0, 1, 1])\n",
        "obj3 = p.createMultiBody(baseMass=1, baseVisualShapeIndex=obj3Shape, basePosition=[-1.0, 0.0, initial_height], flags=flags)\n",
        "\n",
        "dt = 1. / 20.  # Time step\n",
        "g = -9.8  # Acceleration due to gravity\n",
        "targetPos_obj2, targetVel_obj2 = 0., 0.  # Initialize variables used in Euler method\n",
        "targetPos_obj3, targetVel_obj3 = 0., 0.  # Initialize variables used in Midpoint method"
      ],
      "execution_count": 0,
      "outputs": []
    },
    {
      "cell_type": "markdown",
      "metadata": {
        "colab_type": "text",
        "id": "2m-Lp4l5dGBu"
      },
      "source": [
        "# 2. Galileo's experiment\n",
        "\n",
        "The first task is to write the code for defining the \"system\" of each free-falling object. Do you remember which functions are needed? ** **write your code below (10 pts)**  **"
      ]
    },
    {
      "cell_type": "code",
      "metadata": {
        "id": "N9kvXO3uimac",
        "colab_type": "code",
        "colab": {}
      },
      "source": [
        "class Freefall(object):\n",
        "  \"\"\" A dynamics system of a freefall object.\n",
        "  \"\"\"\n",
        "  def __init__(self, obj, g, initial_state):\n",
        "    \"\"\"Initialize the object that is free-falling.\n",
        "\n",
        "    Args:\n",
        "      obj: the object in pybullet\n",
        "      g: the gravity constant\n",
        "      initial_state: the initial state at the beginning\n",
        "    \"\"\"\n",
        "    # pass\n",
        "    self.obj = obj\n",
        "    self.state = initial_state\n",
        "    self.g = g\n",
        "\n",
        "  \n",
        "  def get_dim(self):\n",
        "    \"\"\"Returns the dimension of the state.\"\"\"\n",
        "    return len(self.state)\n",
        "\n",
        "  def get_state(self):\n",
        "    \"\"\"Returns the current height and velocity.\"\"\"\n",
        "    return self.state\n",
        "\n",
        "  def set_state(self, state):\n",
        "    \"\"\"Updates the height and vertical velocity of the object.\"\"\"\n",
        "    self.state = state\n",
        "\n",
        "  def get_derivative(self):\n",
        "    \"\"\"Returns the derivative of the given system.\"\"\"\n",
        "    return np.array((self.state[1], g))\n",
        "\n",
        "  \n",
        "  def update_pybullet(self):\n",
        "    \"\"\"Updates the position and velocity of the object for visualization.\n",
        "    \"\"\"\n",
        "    obj = self.obj\n",
        "    x, y, _ = p.getBasePositionAndOrientation(obj)[0]\n",
        "    z, dz = self.state\n",
        "    p.resetBasePositionAndOrientation(obj, posObj=[x, y, z], ornObj=[0, 0, 0, 1])\n",
        "    p.resetBaseVelocity(obj, linearVelocity=[0, 0, dz]) \n"
      ],
      "execution_count": 0,
      "outputs": []
    },
    {
      "cell_type": "markdown",
      "metadata": {
        "id": "d6PcjwF7ncs9",
        "colab_type": "text"
      },
      "source": [
        "Now it is time to implement all the integrators.\n",
        "\n",
        "Let's write the analytical solution first. For analytically solving the free-fall motion, we need to know its initial height and gravity constant. ** **write your code below (15 pts)**  **"
      ]
    },
    {
      "cell_type": "code",
      "metadata": {
        "id": "NBLFvT6Wn4pF",
        "colab_type": "code",
        "colab": {}
      },
      "source": [
        "class AnalyticSolver(object):\n",
        "  \"\"\"AnalyticSolver, specific to a free falling object.\"\"\"\n",
        "  def __init__(self, initial_height, g):\n",
        "    \"\"\"Initializes the solver.\n",
        "\n",
        "        Args:\n",
        "          initial_height: initial height of the object.\n",
        "          g: gravity constant.\n",
        "    \"\"\"\n",
        "    self.initial_height = initial_height\n",
        "    self.g = g\n",
        "    \n",
        "  \n",
        "  def step(self, system, t, dt):   ## dt is not necessary here, do not need to call state here\n",
        "    \"\"\"Returns the system state at the given time.\"\"\"\n",
        "    state = np.array([self.initial_height, 0])\n",
        "    state[0] = state[0] + t * state[1] + g * t * t / 2\n",
        "    state[1] = state[1] + t * g\n",
        "    system.set_state(state)\n",
        "    new = system.get_state()\n",
        "    return new\n",
        "\n"
      ],
      "execution_count": 0,
      "outputs": []
    },
    {
      "cell_type": "markdown",
      "metadata": {
        "id": "rlvhA2Wyr5KH",
        "colab_type": "text"
      },
      "source": [
        "Then the next is the Explicit Euler method. ** **write your code below (15 pts)**  **"
      ]
    },
    {
      "cell_type": "code",
      "metadata": {
        "id": "X7B7NuY5r9ic",
        "colab_type": "code",
        "colab": {}
      },
      "source": [
        "class ExplicitEulerSolver(object):\n",
        "  \"\"\"A general Explicit Euler method solver.\"\"\"\n",
        "  def __init__(self):\n",
        "    \"\"\"Initilializes the solver.\"\"\"\n",
        "  \n",
        "  def step(self, system, t, dt):   ## t is not necessary\n",
        "    \"\"\"Advances the system by dt.\"\"\"\n",
        "    temp = system.get_state()\n",
        "    deriv = system.get_derivative()\n",
        "    temp = temp + dt * (deriv)\n",
        "    system.set_state(temp)\n",
        "    new = system.get_state()\n",
        "    return new"
      ],
      "execution_count": 0,
      "outputs": []
    },
    {
      "cell_type": "markdown",
      "metadata": {
        "id": "JXbjgpMPxzGc",
        "colab_type": "text"
      },
      "source": [
        "The third one is the Midpoint method (hint: compute x_mid and f_mid. don't forget to store the original state x0). ** **write your code below (15 pts)**  **"
      ]
    },
    {
      "cell_type": "code",
      "metadata": {
        "id": "P-hEwtmzyFpa",
        "colab_type": "code",
        "colab": {}
      },
      "source": [
        "class MidpointSolver(object):\n",
        "  \"\"\"A general Midpoint method solver.\"\"\"\n",
        "  def __init__(self):\n",
        "    \"\"\"Initilializes the solver.\"\"\"\n",
        "  \n",
        "  def step(self, system, t, dt):\n",
        "    \"\"\"Advances the system by dt.\"\"\"\n",
        "    temp1 = system.get_state()\n",
        "    mid = temp1 + (dt/2)*system.get_derivative()\n",
        "    system.set_state(mid)\n",
        "    new = temp1 + dt*system.get_derivative()\n",
        "    system.set_state(new)\n",
        "    final = system.get_state()\n",
        "    return final\n"
      ],
      "execution_count": 0,
      "outputs": []
    },
    {
      "cell_type": "markdown",
      "metadata": {
        "id": "57r_AoVhnK7S",
        "colab_type": "text"
      },
      "source": [
        "Complete the while-loop below. Also print out the heights of the objects at various points of time to illustrate the difference in solutions obtained using the various methods. The printed messages should be concise but informative. ** **write your code below (15 pts)**  **"
      ]
    },
    {
      "cell_type": "code",
      "metadata": {
        "colab_type": "code",
        "outputId": "6aef8bfb-8e2e-4bd9-a1f8-7f353a2820e9",
        "id": "bVHkKYGYQ4nw",
        "colab": {
          "base_uri": "https://localhost:8080/",
          "height": 34
        }
      },
      "source": [
        "\n",
        "def get_heights(systems):\n",
        "  \"\"\"A helper function that returns the heights of all systems.\"\"\"\n",
        "  return [s.get_state()[0] for s in systems]\n",
        "\n",
        "i, t = 0, 0.  # Loop counter, Time\n",
        "heightsToPlot = [[initial_height], [initial_height], [initial_height]]\n",
        "time = [t]\n",
        "\n",
        "# Constructs all the systems\n",
        "init_state_1 = np.array((initial_height, 0.0))\n",
        "init_state_2 = np.array((initial_height, 0.0))\n",
        "init_state_3 = np.array((initial_height, 0.0))\n",
        "system1 = Freefall(obj1, g, init_state_1)\n",
        "system2 = Freefall(obj2, g, init_state_2)\n",
        "system3 = Freefall(obj3, g, init_state_3)\n",
        "systems = [system1, system2, system3]\n",
        "\n",
        "# Constructs all the \n",
        "analytic_solver = AnalyticSolver(initial_height, g)\n",
        "explicit_euler_solver = ExplicitEulerSolver()\n",
        "midpoint_solver = MidpointSolver()\n",
        "\n",
        "while max(get_heights(systems)) > 0.0:\n",
        "  time.append(t)\n",
        "  t += dt\n",
        "  # (TODO) advance each system with integrators.\n",
        "  init_state_1 = analytic_solver.step(system1, t, dt)\n",
        "  init_state_2 = explicit_euler_solver.step(system2, t, dt)\n",
        "  init_state_3 = midpoint_solver.step(system3, t, dt)\n",
        "\n",
        "  heights = get_heights(systems)\n",
        "  heightsToPlot.append(get_heights(systems))\n",
        "\n",
        "  # (TODO) Print the values for debugging.\n",
        "  # print(heights)\n",
        "  # print(heightsToPlot)\n",
        "  \n",
        "  # Update the values for plot and visualization\n",
        "  for j, system_j in enumerate(systems):\n",
        "    system_j.update_pybullet()\n",
        "    heightsToPlot[j].append(heights[j])\n",
        "\n",
        "  # Render images\n",
        "  _, _, img, _, _ = p.getCameraImage(pixelWidth, pixelHeight, viewMatrix,projectionMatrix, shadow=1, lightDirection=[1,1,1])\n",
        "  Image.fromarray(img[:, :, :3]).save('./frame%04d.jpg' % i)\n",
        "  i += 1\n",
        "\n",
        "print(\"Done. t = {}\".format(t))\n"
      ],
      "execution_count": 78,
      "outputs": [
        {
          "output_type": "stream",
          "text": [
            "Done. t = 1.5000000000000007\n"
          ],
          "name": "stdout"
        }
      ]
    },
    {
      "cell_type": "markdown",
      "metadata": {
        "id": "ahtnMEXgXFeZ",
        "colab_type": "text"
      },
      "source": [
        "#### Let us now visualize the results of our experiments, Make sure that you can see the animation of three free-falling objects."
      ]
    },
    {
      "cell_type": "code",
      "metadata": {
        "id": "M-wkkI8eOG8R",
        "colab_type": "code",
        "outputId": "3f15c4c1-a66d-457c-8a83-a482c3ea368e",
        "colab": {
          "base_uri": "https://localhost:8080/",
          "height": 381
        }
      },
      "source": [
        "def show_gif_image(filename):\n",
        "  video = io.open(filename, 'r+b').read()\n",
        "  encoded = base64.b64encode(video)\n",
        "  ipythondisplay.display(HTML(data='''<img src=\"data:image/gif;base64,{0}\"/>'''.format(encoded.decode('ascii'))))\n",
        "\n",
        "# Zip the animation in to gif\n",
        "ffmpeg.input('./frame*.jpg', pattern_type='glob', framerate=20.0).output('./output.gif').overwrite_output().run()\n",
        "show_gif_image('./output.gif')"
      ],
      "execution_count": 79,
      "outputs": [
        {
          "output_type": "display_data",
          "data": {
            "text/html": [
              "<img src=\"data:image/gif;base64,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\"/>"
            ],
            "text/plain": [
              "<IPython.core.display.HTML object>"
            ]
          },
          "metadata": {
            "tags": []
          }
        }
      ]
    },
    {
      "cell_type": "markdown",
      "metadata": {
        "id": "AoK9a222ZsQG",
        "colab_type": "text"
      },
      "source": [
        "#### Let us also look at the plot of heights vs time:"
      ]
    },
    {
      "cell_type": "code",
      "metadata": {
        "id": "tAsCw2uA3k8Q",
        "colab_type": "code",
        "outputId": "a7eb4837-e1ee-4962-f83b-dccc6040ce4f",
        "colab": {
          "base_uri": "https://localhost:8080/",
          "height": 279
        }
      },
      "source": [
        "import matplotlib.pyplot as plt\n",
        "%matplotlib inline\n",
        "\n",
        "time = time[:-1]\n",
        "heightsToPlot[0] = heightsToPlot[0][:-1]\n",
        "heightsToPlot[1] = heightsToPlot[1][:-1]\n",
        "heightsToPlot[2] = heightsToPlot[2][:-1]\n",
        "plt.figure()\n",
        "plt.plot(time, heightsToPlot[0], 'r-', label='Analytical')\n",
        "plt.plot(time, heightsToPlot[1], 'g-', label='Euler')\n",
        "plt.plot(time, heightsToPlot[2], 'b-', label='Midpoint')\n",
        "plt.xlabel('Time')\n",
        "plt.ylabel('Heights')\n",
        "plt.legend()\n",
        "plt.show()"
      ],
      "execution_count": 80,
      "outputs": [
        {
          "output_type": "display_data",
          "data": {
            "image/png": "[encoded data removed]",
            "text/plain": [
              "<Figure size 432x288 with 1 Axes>"
            ]
          },
          "metadata": {
            "tags": []
          }
        }
      ]
    },
    {
      "cell_type": "markdown",
      "metadata": {
        "id": "UblJy1RWgmhT",
        "colab_type": "text"
      },
      "source": [
        "Can you see all three height trajectories over time? Discuss the results, particularly in terms of the accuracy of each method. Will the results be different if we take a smaller/larger time step? ** **write your answer below (20 pts)** **"
      ]
    },
    {
      "cell_type": "markdown",
      "metadata": {
        "id": "wWQ-mWahhPRx",
        "colab_type": "text"
      },
      "source": [
        "We first calculate the theoretical time when it drops at the ground can be calculate as 10 = x0 + v0 * t + 1/2 * g * t^2 . Here x0 and v0 are both zero, so theoretical time is around 1.4278 sec. \n",
        "\n",
        "Initially, dt is set to be 1/20. When we plot through Analytic, Euler and Midpoint, we can see that the dropping line generated by Midpoint method is generally coincident with Analytic curve, while curve generate by Euler has some difference. Thus, we can conclude that Midpoint method is more accurate than Euler method. In addition, the generate time t is 1.5 sec, which is dominated by the slowest / most inaccurate method, Euler. \n",
        "\n",
        "Then we decreases dt to 1/50 and 1/80. When dt = 1/50, the difference between analytic and Euler has significantly decreased, and time t is changed to 1.44 sec. Then we further decrease to 1/80, t is reduced to 1.4375 sec and the different is further minimized as well. \n",
        "\n",
        "In adiition, we increase dt to 1/10 and 1/5. As we expect, when dt increases, difference between Euler and Analytic increases as well. However, curve by Midpoint method is always identical to the theoretical one, which proves the accuracy of midpoint method. And the time for dt = 1/10 is 1.5 sec as well, but for dt = 1/5, it changes to 1.599 sec. \n",
        "\n",
        "Below are all plots that I generated for these dt:\n",
        "\n",
        "[image when dt = 1/5](https://drive.google.com/open?id=1gHIzKcA0goMf3_-aUU-3acz05EDVLbEQ)\n",
        "\n",
        "[image when dt = 1/10](https://drive.google.com/open?id=1Tl7_Ozrl0nVG1sai2tW-t3_uUXsBTcBV)\n",
        "\n",
        "[image when dt = 1/20](https://drive.google.com/open?id=1Mm8Um1xRC9SIXp3wd-_LabDG51oNjaCD)\n",
        "\n",
        "[image when dt = 1/50](https://drive.google.com/open?id=1sR3YzdvAlJ9MNwySOtcH9zysA5Ghdc6h)\n",
        "\n",
        "[image wehn dt = 1/80](https://drive.google.com/open?id=1IxaLimvxVeDvhUOcSECGTvmmZopUCjfX)\n"
      ]
    },
    {
      "cell_type": "markdown",
      "metadata": {
        "id": "sdcwtji7h-kU",
        "colab_type": "text"
      },
      "source": [
        "# 3. Bead on the wire\n",
        "\n",
        "Do you remember the bead-on-the-wire example? In this task, we will implement the system of the bead-on-the-wire where a 2-D particle is governed with two springs in X and Y axis, where their stiffness are $1.0$ and $k$, respectively. ** **write your code below (10 pts)**  **\n"
      ]
    },
    {
      "cell_type": "code",
      "metadata": {
        "id": "N-Uu1y7Hirn3",
        "colab_type": "code",
        "colab": {}
      },
      "source": [
        "class BeadOnWire(object):\n",
        "  '''A bead on the wire system integrated using Euler and Midpoint methods\n",
        "  '''\n",
        "  def __init__(self, k, initial_state):\n",
        "    '''Initialize system parameters\n",
        "\n",
        "    Args:\n",
        "    k: Spring constant\n",
        "    initial_state: Initial system state\n",
        "    '''\n",
        "    self.state = initial_state\n",
        "    self.k = k\n",
        "  \n",
        "  \n",
        "  def get_state(self):\n",
        "    '''Returns [x(t), y(t)], where x = e^(-t) and y = e^(-kt)\n",
        "    '''\n",
        "    return self.state\n",
        "\n",
        "  def set_state(self, state):\n",
        "    '''Update x(t) and y(t), where x = e^(-t) and y = e^(-kt)\n",
        "    '''\n",
        "    self.state = state\n",
        "\n",
        "\n",
        "  def get_derivative(self):\n",
        "    '''Derivative of given system [-e^(-t), -ke^(-kt)]\n",
        "    '''\n",
        "    return np.array(( - self.state[0], -k * self.state[1]))"
      ],
      "execution_count": 0,
      "outputs": []
    },
    {
      "cell_type": "markdown",
      "metadata": {
        "id": "XmRmynidi8xO",
        "colab_type": "text"
      },
      "source": [
        "We provide the skeleton code for simulation."
      ]
    },
    {
      "cell_type": "markdown",
      "metadata": {
        "id": "z48iLh-550Kf",
        "colab_type": "text"
      },
      "source": [
        "RK4 Method (Copy from extra credit)"
      ]
    },
    {
      "cell_type": "code",
      "metadata": {
        "id": "k8rvgs28F597",
        "colab_type": "code",
        "colab": {}
      },
      "source": [
        "class RK4Solver(object):\n",
        "  def __init__(self):\n",
        "    pass\n",
        "\n",
        "  def step(self, system, t, dt):    # pass\n",
        "    temp = system.get_state()\n",
        "    temp1 = temp.copy()    \n",
        "    temp2 = temp.copy() \n",
        "    temp3 = temp.copy()\n",
        "\n",
        "    k1 = dt * system.get_derivative()\n",
        "\n",
        "    temp1 = temp1 + k1/2\n",
        "    system.set_state(temp1)\n",
        "    k2 = dt * system.get_derivative()\n",
        "\n",
        "    temp2 = temp2 + k2/2\n",
        "    system.set_state(temp2)\n",
        "    k3 = dt * system.get_derivative()\n",
        "\n",
        "    temp3 = temp3 + k3\n",
        "    system.set_state(temp3)\n",
        "    k4 = dt * system.get_derivative()\n",
        "\n",
        "    final = temp + k1/6 + k2/3 + k3/3 + k4/6\n",
        "    system.set_state(final)\n"
      ],
      "execution_count": 0,
      "outputs": []
    },
    {
      "cell_type": "markdown",
      "metadata": {
        "id": "jeV-psgz5yV0",
        "colab_type": "text"
      },
      "source": [
        "Implicit Euler Method (Copy from extra credit)"
      ]
    },
    {
      "cell_type": "code",
      "metadata": {
        "colab_type": "code",
        "id": "VPFvLIpeQW03",
        "colab": {}
      },
      "source": [
        "class ImplicitEulerSolver(object):\n",
        "  def __init__(self):\n",
        "    pass\n",
        "    \n",
        "  def step(self, system, t, dt):\n",
        "    # pass\n",
        "    temp = system.get_state()\n",
        "    deriv1 = system.get_derivative()\n",
        "    fprime = np.array([[-1, 0], [0, -k]])  \n",
        "    deltaf1 = np.array([[dt/(1+dt), 0], [0, dt/(1+k*dt)]])\n",
        "    deltaf = deltaf1.dot(deriv1)\n",
        "    new = temp + dt*deriv1+dt*(deltaf.dot(fprime))\n",
        "    system.set_state(new)\n",
        "\n"
      ],
      "execution_count": 0,
      "outputs": []
    },
    {
      "cell_type": "code",
      "metadata": {
        "id": "rIy8oibziy6p",
        "colab_type": "code",
        "colab": {}
      },
      "source": [
        "RK4_solver = RK4Solver()\n",
        "implicit_solver = ImplicitEulerSolver()\n",
        "\n",
        "# Create a bead-on-wire system with desired parameters\n",
        "k = 5\n",
        "initial_state = np.array([1, 1]) # [e^(-0), e^(-k * 0)]\n",
        "b_Euler = BeadOnWire(k, initial_state)\n",
        "b_Midpoint = BeadOnWire(k, initial_state)\n",
        "b_RK4 = BeadOnWire(k, initial_state)\n",
        "b_implicit = BeadOnWire(k, initial_state)\n",
        "# Simulation parameters\n",
        "dt = 1./ 4.\n",
        "numTimeSteps = 50\n",
        "# Lists to store histories which we will plot later\n",
        "histEuler, histMidpoint, histRK4, histImplicit = [initial_state], [initial_state], [initial_state], [initial_state]\n",
        "\n",
        "\n",
        "# The mainloop for simulation\n",
        "for t in range(numTimeSteps):\n",
        "  explicit_euler_solver.step(b_Euler, t, dt)\n",
        "  histEuler.append(b_Euler.get_state())\n",
        "\n",
        "  midpoint_solver.step(b_Midpoint, t, dt)\n",
        "  histMidpoint.append(b_Midpoint.get_state())\n",
        "\n",
        "  RK4_solver.step(b_RK4, t, dt)\n",
        "  histRK4.append(b_RK4.get_state())\n",
        "\n",
        "  implicit_solver.step(b_implicit, t, dt)\n",
        "  histImplicit.append(b_implicit.get_state())\n",
        "\n",
        "# histEuler, histMidpoint = np.array(histEuler), np.array(histMidpoint)\n",
        "histEuler, histMidpoint, histRK4, histImplicit = np.array(histEuler), np.array(histMidpoint), np.array(histRK4), np.array(histImplicit)\n"
      ],
      "execution_count": 0,
      "outputs": []
    },
    {
      "cell_type": "markdown",
      "metadata": {
        "id": "gHwMtmUJjMiH",
        "colab_type": "text"
      },
      "source": [
        "... and the code for visualization as well."
      ]
    },
    {
      "cell_type": "code",
      "metadata": {
        "id": "TGz5W8x5i1mf",
        "colab_type": "code",
        "outputId": "4e8ce52d-c8a2-4950-f244-cf9042ecee92",
        "colab": {
          "base_uri": "https://localhost:8080/",
          "height": 557
        }
      },
      "source": [
        "from matplotlib import animation, rc\n",
        "\n",
        "# Set up initial figure\n",
        "fig, ax = plt.subplots()\n",
        "ax.set_xlim(( -0.2, 1.2))\n",
        "ax.set_ylim((-1.2, 1.2))\n",
        "colors = [\"Green\", \"Blue\", \"Red\", \"Black\"]\n",
        "labels = [\"Euler\", \"Midpoint\", \"RK4\", \"Implicit\"]\n",
        "\n",
        "lines = []\n",
        "for i in range(4):\n",
        "  lines.append(ax.plot([], [], lw=2, color=colors[i], label=labels[i])[0])\n",
        "\n",
        "# Initialization function: plot the background of each frame\n",
        "def init():\n",
        "  for line in lines:\n",
        "    line.set_data([], [])\n",
        "  return lines\n",
        "\n",
        "# Animation function. This is called sequentially\n",
        "def animate(i):\n",
        "  xEuler, yEuler = histEuler[:i + 1, 0], histEuler[:i + 1, 1]\n",
        "  xMid, yMid = histMidpoint[:i + 1, 0], histMidpoint[:i + 1, 1]\n",
        "  xRK4, yRK4 = histRK4[:i + 1, 0], histRK4[:i + 1, 1]\n",
        "  xIm, yIm = histImplicit[:i + 1, 0], histImplicit[:i + 1, 1]\n",
        "  x = [xEuler, xMid, xRK4, xIm]\n",
        "  y = [yEuler, yMid, yRK4, yIm]\n",
        "\n",
        "  for lineNum, line in enumerate(lines):\n",
        "    line.set_data(x[lineNum], y[lineNum])\n",
        "\n",
        "  ax.legend()\n",
        "  return lines\n",
        "\n",
        "# Call the animator. blit=True means only re-draw the parts that have changed.\n",
        "anim = animation.FuncAnimation(fig, animate, init_func=init,\n",
        "                               frames=numTimeSteps, interval=50, blit=True)\n",
        "HTML(anim.to_html5_video())"
      ],
      "execution_count": 85,
      "outputs": [
        {
          "output_type": "execute_result",
          "data": {
            "text/html": [
              "<video width=\"432\" height=\"288\" controls autoplay loop>\n",
              "  <source type=\"video/mp4\" src=\"data:video/mp4;base64,AAAAHGZ0eXBNNFYgAAACAGlzb21pc28yYXZjMQAAAAhmcmVlAAAn/W1kYXQAAAKuBgX//6rcRem9\n",
              "5tlIt5Ys2CDZI+7veDI2NCAtIGNvcmUgMTUyIHIyODU0IGU5YTU5MDMgLSBILjI2NC9NUEVHLTQg\n",
              "QVZDIGNvZGVjIC0gQ29weWxlZnQgMjAwMy0yMDE3IC0gaHR0cDovL3d3dy52aWRlb2xhbi5vcmcv\n",
              "eDI2NC5odG1sIC0gb3B0aW9uczogY2FiYWM9MSByZWY9MyBkZWJsb2NrPTE6MDowIGFuYWx5c2U9\n",
              "MHgzOjB4MTEzIG1lPWhleCBzdWJtZT03IHBzeT0xIHBzeV9yZD0xLjAwOjAuMDAgbWl4ZWRfcmVm\n",
              "PTEgbWVfcmFuZ2U9MTYgY2hyb21hX21lPTEgdHJlbGxpcz0xIDh4OGRjdD0xIGNxbT0wIGRlYWR6\n",
              "b25lPTIxLDExIGZhc3RfcHNraXA9MSBjaHJvbWFfcXBfb2Zmc2V0PS0yIHRocmVhZHM9MyBsb29r\n",
              "YWhlYWRfdGhyZWFkcz0xIHNsaWNlZF90aHJlYWRzPTAgbnI9MCBkZWNpbWF0ZT0xIGludGVybGFj\n",
              "ZWQ9MCBibHVyYXlfY29tcGF0PTAgY29uc3RyYWluZWRfaW50cmE9MCBiZnJhbWVzPTMgYl9weXJh\n",
              "bWlkPTIgYl9hZGFwdD0xIGJfYmlhcz0wIGRpcmVjdD0xIHdlaWdodGI9MSBvcGVuX2dvcD0wIHdl\n",
              "aWdodHA9MiBrZXlpbnQ9MjUwIGtleWludF9taW49MjAgc2NlbmVjdXQ9NDAgaW50cmFfcmVmcmVz\n",
              "aD0wIHJjX2xvb2thaGVhZD00MCByYz1jcmYgbWJ0cmVlPTEgY3JmPTIzLjAgcWNvbXA9MC42MCBx\n",
              "cG1pbj0wIHFwbWF4PTY5IHFwc3RlcD00IGlwX3JhdGlvPTEuNDAgYXE9MToxLjAwAIAAAAy4ZYiE\n",
              "ADv//vdOvwKbRZdqA5JXCvbKpCZZuVJrAfKmAAADAAARsG58lw15q9IkAACvW99JK5sz2AZ1QqDJ\n",
              "c7cTlFdfOpgmsNER+UxrxO9rVLepl/XI8ZKFt6Kt/k9FYaVSV30GqCuwRLmTcpK917Ss5pHTB+p1\n",
              "/YL67Yq7mOndrR0ZSgJ1uBgaQ8JQwVMEjJBGHeuJ/Uii09iFrgWtpaNmRXWvfR+DHgP9PTrdqHmN\n",
              "E5SKU3wGt3XBXHSzWT8DqmslyCH9DIaKmiu96k1gaA3FWn8lR1yEUSp84K8wYr/fjaDBvQsNf9qi\n",
              "XKfzY2GAsXKaV2x3qJojV4VppEi7T+vojJGH4+mvxE9FNXKm7vJ2C7sRTU26ZNCmqHSisVWn4PcI\n",
              "d2+0kqwvUgZOUKkUuM04CJgiL6oTjyK59I7a/+hqICmNKTBLNWYgNoEXhCcDmyA0a+hINmldeRUz\n",
              "i0uLN/0J5MrZ00JAdgUudhzlSmk/EmncLqNLPtl/p9ZHjd/k2hKxFlzTXv7cdpsaH0nd9gFziaYG\n",
              "5Vr3ip4BHlgbgpGFp94P9T6zeQUh954l3vTWVsPvhW0Ey6Noizz6tUFEo4b2hCY0ciYaRU6u4s6D\n",
              "CmwvWpSpg22OeSfPw4QPkKvG24S4hgEq3JtydCDvNn0scmSa/nMMq/uixJQ1EGHAXlfSZlW/dnnO\n",
              "NfcGp9q2w0RH5ID5XUXND/JXhcKzig1mHZjgK5FbU0H95Wa7FUg1wHdkqP7Utg177elzHmOvCA0T\n",
              "zZ2YVqEcbi+83dO9S5WaKso2n2X3Etcstgws5C7duiOjTPhCrEfYmm9wafu8Z+PS3SokxXXofald\n",
              "Eamgwq0445aNoAjjZRiRD8z+BbbV22EN2i0ckPwZ+2FxXNvYWJx+DRYX28ZJJ5mS5RaIrAAvEsC0\n",
              "xHSKycQEn2jqNn/YBB4Az8kSEjKT+6FyBpSXEjTEh+ksEDSGJPGFo8XaI6g1h+1r59cWesWfbL0f\n",
              "9BV+YN1cT7h3T5dnZUh76NBCh8zQS2yMwMQTSgV94K3kLnh4iXd0797dKYsSKq0kr++KvJlh9bAJ\n",
              "kbfDm7M79FnxzFIPhy5SBuMH79PTy6SijjkhWI2GmLXssPnVkd7AJQ7pcVJNyTecRLhJlNz9Ji08\n",
              "Y7xQNQRIg0Neiu3H7rbRWWx95Sqbh8uiDjTYkc/xf9uxN0r9ejLJrCNy0vlFFre8aH13yplPqYLf\n",
              "Q6bc8ups3DflK+HeZ4shtXZX1XmmC/b7mohfT2JcYbO4T7+S4F0IE0jFiHizVQfolvajiBQpsSRB\n",
              "4xRiDOXrWas8zIDCgABEuiE0FqureB7v1ovKk2i9rxmI1g/+LmxNSOLdDIwfIDAdRxbzwOhL+P5g\n",
              "Fpbx0J+0mgm/aF+HykJa+cDCNDZuWzU2pdTMEtIvMbpXwe7M5Kj/mDE7vHYwVJ9OToh6ohl6je5T\n",
              "fJsAv/k4GKpnf8rarC3RCHIrdMOds0Z/CdUSH4L4P+bUsMRvnziRgs8M6M3T3cLhDXvqeU79r67F\n",
              "865t9gvLEIdWawe1ZkTJTbisSbgYSZIbnJsXmVMVv+tAcAsaC33j6Y/hex/2NHJM+EblMtZafBew\n",
              "lRGR3yBc6uihNvp9I/RHIroch8gspiNBrKJMZjk8W8FVZRAhMGgKoJCc55bJeggyqtj9DIKuWMSr\n",
              "6yKNypnEXjcqqHPis+gMT8fgAD/VAst5Y0TUF1kYZRr0Tz/K7K8MKdXwTaZYLHml071dxn2euZ+a\n",
              "/GkmOadxUcxSC8vGVXpLcMKtxRI4oHN1e9vVzXXXPYcADVkbFEVJhEAZomrTXH0slM361rHMxs5A\n",
              "04nWYVAjisZBSd5KfTEVKNvYYcihBVj/uyLz3GaUWOLB4U4DUEH3hGPS3HxZATajqOJ95iuTJuny\n",
              "m6Zq5ri8PPOrrermFs7hG23OyWh2RStAZVQiU1hhy38uvA3B4/1FmSiDCl9kaR3dlwKxxKebDAvS\n",
              "tX7XXSdZjOiIJCjOHuHma0PDivXisDh+DnOfj1EntURyASJXuhDHBvuIXBXrUennDsCN0Ih8w39l\n",
              "jod4IcMvX5NUZOvZuaU4RJv84+z5n+tnaKeB6hVQTXJgyoIoI/Wupef+wlgzXpmVIAmQZf7D+P1r\n",
              "dNNH4/C4thg33j2cm9yYXomVjghwG1RwZIAWaNojvOSGWXmlgpwCP750fBXpblW/xNTZ5BY/8hTq\n",
              "r4MSiSSGs79P8eoHx7cOzfV+fdTuu1BfXQfX7MBicACV+EcIf2//OS7RHmMoMr9VC+5ym+XkQoM0\n",
              "Kjfmwm0Q9o3KGl9r/5hPD7XwxXhwcHN1Oy8p0pVxImq5+zOVfh2xr6IMgjUj650nzCVklvaJa6O+\n",
              "xmGCJ41+7KISDfr2WCTpmronvpwadaDLhBKyUKHpCaRoI1n4xSNwFdGoXbd5QEiEL3qwpL3t9KUS\n",
              "k6aOj8mApkXt6gfQhzF8f2LwiCS2XFkQ8jmVnnQwIPQ30ywRd/VVEt0JR7ussSCAk7ceQW5O8a0U\n",
              "eds69gG+uj+2jDza7xTWUDBi1cSUPkwvJ+swtMlq4MlVBMDExmJOcr3yqWRiGKQpm286MHhpr8/s\n",
              "G7lHg/rdOUlY3fsh//giW05KA/yic2J5wuAouvcWGwqUbhiIZg8vxTjMYy8qbU5Weoiom8brv8Kk\n",
              "wK/fVjVQ1Fb1QPzUNOgzKbrh8sT2HKmODK7VH48coa6AFYAYZRhBSycuGAPyD2U3FNg/fc/n7els\n",
              "7RJU1AGqeoEuFkE0hfPhmYfTB82x/DN3xww7ZudgvxoNbMEoVnusZMvxR11WpgydF2CeZ3jcOAwU\n",
              "jrqtTBk6LsE8zYwKjpVj9dVqYMnRdgnmYENbJxc/XVamDJ0XYJ5lwpOA3JIQs0PK/u+8PeBQKc8v\n",
              "e20yeawKmtaBDf//GSn2UP7l+5blxfpP8Mr8wUv8xIAvB8k4VgAu86Md63f1B74+PgFUQPoAdvlW\n",
              "el6AtUbkRPwUdQeIwvgQJSeO98tOYPsQTG0lxD5msP4VLtUQi9IsjD5UoqDCb8cNvLyBm2zLKgkX\n",
              "w8EOjv5F6sBFOeZckghQevuA76G9ej+uyzTO9lD2uPmEJXTLG/hDMz3qTVjn5MZc6T/533JblI7N\n",
              "bg9XKUTdkKEt3MVvutrxFqh/GOldl0snA5kKvDv+P/sqmTyit1cTkr8WCE2iCwRAIndLPbAGXfi/\n",
              "9dkxMCNOPRNM6+ec90FqtquDAEtF7KrbuTWEYpZW36xTOqo2MB4+s2Y12+/6vCM6I++wVZQ8jPft\n",
              "TAY0UGeTQG8qBuEwF/agM92QT0ekRk1gKgb50LSMS7hzqISBp89vU2Ra9LTi+F8v1bFtxsmBSelK\n",
              "MQDdpWklRlKbmYLC9xDI9X+ZI/HGm57k5ZoctmFXJcCEqKcSJvDQUjSuiS044anDMmOBE4crAKEF\n",
              "gIt7VtaKhmkcmPKhbKIlfvBjBib+eNax1HneNi+GOWhBe0ShWpvMVFnrY1p98doJxYa1hWlWsrRt\n",
              "oeOPkhDMcRrEDByEq7dwW6vzXhcMD/wAV8cEaLgGLFBsuT1UhOKUT0x/dXkm8+57VNCvJV/GeyKI\n",
              "15kW6pk6TSpNR7uJdKQZKVQCZNBmnlf1ywTYhQfi33HOQcy9GULPcva+7vEfFcvd/Bg+C+jMUNg3\n",
              "qgl5Svfc+k+UXgvMamVM/wOgk/e6grLX67GE9wlRzHw7wBJyouiL6PlVffpv3aMYS/G+OCNFwDFi\n",
              "gPBKCGxuNJE+QWZ1HvYDeL5ikHnlDvDhNz7Sl8oe1cLSfbt7YHlCmXZ7TYT7pu/VLEX9OFVz/HrL\n",
              "vmPFfGG/pPsHUGSVw4CNr+oQyfV4zeRDn8ZhgimiXcT9IyPdXKsYGuzrALWhjSn/GONHUikC+mj1\n",
              "fRDVtBtk4X5DDfLxBUOj1SBeVIN8cPW/ZAG+47b2HumglyGWI0VN37txsQZwMdHDby2TyICkiHjP\n",
              "cmdqIPohwWmZB7XNMvcaG3fADjYpgI74QOwGC8GmQumZUc9pz55n0WUdK9GQucNCXTct/euDJnwa\n",
              "BenJUTum3/RSXm+LkGiUyw27Vr72yy/BKdajQy5ApgQF9ErFcIuotOsidANyaUbE9xGdEvXvMvwW\n",
              "HURHr0t0NjpiiQOchS9Ooz9KKuBFXzwU1aE876nigezRxt1WCix1kxi2R1d3q7CDb3tQ0W6n4YSU\n",
              "Agogffu7RLK+ETlk70gG0y2dIYs0OrshswIcWIOzwjtoJS123jQ1jBoVGfu/I7xXl+3X719sFgel\n",
              "HTsGAb/w5SO3757U7YtOJQJl6VirrODlrSWFY6gUy2wrSwKWrEFI82L1t/6wn0sIqgMP5dwAAZUA\n",
              "AwwUsQAAB1RBmiFsQ7/+qZYA7lUqANwWvs3Qk8NXJUr33J9DhLoxkFXP7VLtmy43qHzPDLMqqORC\n",
              "oBrOCRxvZin4tDWrf/0qfF/m8hpNVoa+6cOh63LXMnRSfTBD6B4R0UxVomSrQTsu9/Lc439xLPfH\n",
              "VGYDTvP7taIm4c1GsC5SjWIlGVemRAbU+QIhYuMHf7x9bFbS9Pprnm8JK3AT1ulKq+uTV223TiGJ\n",
              "cbQIizviil51Ssm+vwkyifM1lkIjVyyf9V4WIxAuDrzqeqLwbsMeVR/q0rWVy8FWSr+PkEaBlFZu\n",
              "GnO45HNoYMc8/iRuWpdg0y4bJOJNYXykHiJSzK76nAywAr+3xD64iRmg+bwd4D/NghfoEr0P7pdu\n",
              "d9LawIxJjPvTqson1Lsv9ntZ8llWAkelV0WXbkqBAxhpWT6kStnsAGRbKuCjC6uTEs4bt/wcAraK\n",
              "fgmL6zKTxntQqvgmIIHZHeqT5GE+weCN0VysnYYCSgW6SCERgbVaBCc8+UEYP9JLVZKSS7O0Sa6D\n",
              "8q/KMwvFvj6pwz/WBDMjMWDAe9apWBC6IlHfnHNvkZwgp94I42OPRA5RmrQzBb+6kYBgRkTUYviX\n",
              "AEny75bxDbAknY1jjEJ7Nnbu6XRTm4VfUZXL9zywOtCpkpb7eVEcB/j2pafUrmB8ICTb0Eb53PiO\n",
              "vTzmwIkieztYTuZAft3pGojEVm83QWg45pGruNNLI9ZxBCuboBgomOANSoro5rxm1ohcGxsw+euw\n",
              "BPh0OTfrQOi+mc3mbZYPX9fWVPbTwpUZ/kSX7AUWk7FY3k2qyYZR4pYIbdOmgJC92SRQ7UzYw9sU\n",
              "BP/LfqZvY5LUQKDab4L8ttgNjEjQNKMsSX1vbLBfJQKw93WUFrEh1BQJYP/EmVJ53TGhdwvxSXkQ\n",
              "HzdfS9KKayqzzI9JyGIhUWAPSrC+66VqGCF1BBTueg1eSQgPLgxHN0ts4ElLLRgBhRO8hjL0H8sw\n",
              "ptKaxXCfMMfFBbGmQaeHszliHwQjb2DJUmsZ/qg9ERVBLi4NMKEsDvdMfhTXbjWDZ0ejAmUGt4st\n",
              "8dLMMYF+0oSu6fBosUNfNm0RfNQ5Wi6we76FY1A/yjBd6Uefsl3a7zD+7z/XVcuDJF+CEDf+YzLA\n",
              "q05lGLrBKqlLLWtkZkp33fM//XubP7g9OKqpcnKwNEkA6g6hXhBtljLkud2BT8NRif1Qb1BnwaAs\n",
              "L8iXyc/8BMm6UX6Mw05Gh+XJM8gYIooebcGNks+Bc7YBzYFxiqF700j9Z9BQ4wosAHL5fm/j6t94\n",
              "faCPVMxAZPov5seevrXo84MvU0Y2HMYg1E0UU7QJkrW43/aeyH8pZGu1YeLzssIfyI+Ij1nYB4+W\n",
              "n1Hn2ZpjGiOzFEABc4lYg0yfNSvPtQMkQJF7I0ERXiDtAPDhwzqf90vI0XjbZTu9PFrvNAxuA6kf\n",
              "QDWsGBxAydtrMmHt8MNmGhkwCcF9fU2wKPPEW/ZSAeJw7PS3rfBz+wcn/D6wF3KBa8JhtNu6zyE2\n",
              "AoBEOrKoYmLIEhcYGwKbw1ehWeU0usVkNVV5TzrXkhtgAsoT7k7OlTQgpA8sGVBcCLaOx7S8jQS/\n",
              "LoEFViLRHUjH2m2tjxgfQbKm/j9diA/7CjhH7bnIo6aNLq3gpLpRrBBPu+Q0EwowuIfgVeuxQf8f\n",
              "C1h2bKu92f4i7jOjGruVKKfVo53qbROqrDj0ghVLi/LpNOZiea9zob8D/l5kuKjWs7mzMEVi6V2Z\n",
              "Jihp0CG8aHkDpXRHaB8u0Vkerb0fWVTo1pPzZATVn0ZclhYN248amNdTAA/1ScGI0wroZytFtA2/\n",
              "XsKUnMZWdfywNUh5vbtAwEcikP58uQBLuZQR+mHtBOCQh4qcnG1mgBYxomOWnAklPix7dbInps1j\n",
              "lrpcABE/n1inuDZvnN/g2z9EF1RIno1mpfL4iUukYRZ9IPH29jCxj3TxiKne8Hg45p7DJVx2U2LF\n",
              "Gbtpyllw/o4n06c8SUkejdN+q1ok1RjHjIRbeub00g9s0Hmjn2JvGTq+hQ7RGqBzQfvOT0fzHCtu\n",
              "KBg1TxuZAi/jZKk1ovJkL7ZECfKuCc09/2A975MYTk3oB2CcGKQcDwIpcA3D0GP6a7GoDoJJGyxJ\n",
              "PGu+JXS079/Qm69eGUGk9H4F8WMapsyCX+k0IEF1H2WiP0DcwEbNhKSTGMrlHxQQBohdg11hfcVH\n",
              "C46rSkYdXVsJxP7jiE/N3719hRg/vH+UXKIXo6sfxTfAmZWJunns+BdU77dXC9plvCejVZ8+cRIu\n",
              "GOjlR51zPbIb1Wh/HhI+JLAEIihIUzqnz8I6LwLgTI7zH302yVcB4HIdC5s3lAbDmodOV0clxzN8\n",
              "8Uca/8U102GkK0lBi5ne8zs38HIkZ2XgWGv5zruU0Z8SWEOQ1scFXzDiXymKbxKUOJoe2HjetP4D\n",
              "5hMYgqHvUnPsM7H9BE+O5RrM6Sc7H35LkaIvMPO4kFtMzWw6P3v8spArwVD1U0XgDYfV7/rngGWB\n",
              "4prKAAAH5kGaRTwhkymEO//+qZYARg/gVAEDxSuPO2ieMQK87NCygmBIlVWqTN32aVAmwvvIKSSc\n",
              "TbP1KqfYFfGcAJAHCA8eNv55UgxnVNKGYtBriOtDCwCK44UX3Qg8vDjMjQKcxXghnbXpVwDiGf5v\n",
              "TyWtvsQX9hG/T75UYieodIPHi8+3cTAgdaYI2ffz9sYN1AHUkTjuXpd/ZrEJ8OZ/F5cNAZS+g+Fm\n",
              "egVfoNrOCfmndx2wyeRiVvZPkEPDJPfkARNUKyrN1ZGzFGJObgM74FC7Cmd+19pT4scSAC+yq/IW\n",
              "lSXjpoqdvm5j6PRhb/Uqy/WbZYhHFMoEah2RjmdqdPJeV+6T2WoS6Ib5bLEs9P9sFvWt2WQSnV/V\n",
              "d2raZWP5szvyQ8hADhofRDlpwpa7VsvI0YAE/RDLOij78yKuqE5YBw1Js+XnlEvA/ozEJuhZRXWl\n",
              "9RubppmO0ThQ3cNCXzSKie0SGaQ75xq64GDoQnlrQ+KmVAzMnite60x+9SK9aPfakVkhhnL3+m+5\n",
              "9Iyiwj7XJ/B7odZT8dR4mVGLOvy8TbHiHbFJFKoiNtXol3PBe2zDh1Td6yp9ifFqYSlLBbLNKDBq\n",
              "YChqcBoPJpE/JbNcYStQJurDVTA3BuSuO2FM+QPPPBL5nAuU6c3/74nRbpmY19jn/wXLQYXmAbha\n",
              "OwgTttaK5f8fpBfeDqsafh25UO3D/ygd27zc1NPUdcXqQH3W3JOMj4pc2ZETIYecWaGRlEijz8Gy\n",
              "ShWZtVLIAvQK4VFWKNzu/FIvK7ke+HkjFv8613QcjYlCjNdszVk01ACmepiDe+f6g7TCqKziV63M\n",
              "SMlk7mYoO+4kSHA9EZiYxXwDzccS+Zus8nZQ8nm8Nag4ymcdP8X4VwzhCBKIaRdMvslLT9rTD3V9\n",
              "urNo1v0pS/CwtAAqEjL8Zwtq5QQmxupFw6zuKp4SCx/VYuH2mRXNTji8TvQBrHYPl/aCaPhhU/hH\n",
              "IzE+/qmrmk45wzf76Wcva+OxcSOTMM0A4UBa6T8w6U8lqsG+6mxbXCJm8MLMekXolAQrlCPao0hp\n",
              "bUzLd0xQuj/XAEli+/Nxg7aWQwok9UxFdiZeZ7plWD9CVct5wvD7pv4yMtrdEHYO6f3rz4fr4+HW\n",
              "O9aOlyfHEDYLOWDN89BdYQCXcgA/S8HmRh/ZrEzJpU78oxt1QyEODK11ueDnaWPzjNu8MnxFmhiM\n",
              "4eNlv5IfhxZjFjQAQgLDUKM41pyst60oi8pCB51ZJc+LfcXR2J7CdFOFc8YioNSalmfrlHNA7PGL\n",
              "YaNErUWUJmnBCx2AanC5fexz9Hr4EMu8lm7vzYsXYIB1t3czqlZ7hHH03d6n2qK5BBxgin/8tQIs\n",
              "UtjIBecWr6sKWvl938SrKcPUSSUiH5av49Qzg9PopdFFMnO355ikug0XVSIeDjaY7Yet6Hmtq5PS\n",
              "ArnhHWMQeRS46NXqH/Q3Ja+qPIhZcEH1PAcjd6FLRPxpId3K7eDAEnhZF/yp+Vr7eDzQt4vyrfuF\n",
              "FOc8BQgh/ZjhQp/M4pvn+PTnfacgKrjaWEh4rR1yBfjdYap+SFu/4efqoHyUu3lvtL4wJZG68IQZ\n",
              "xVxTXUtBiVIsOi0I9hSdAb3+78aa77C+em5oqqucovwkeaL6PDOFYA0PZ+Po7jlN57A0TrUmP1mI\n",
              "alQizSU04L3RvvHHAf2jnMLYi0dDh2QyDsFOZnwv8T+xwmCCCtsXURfDQqP126WsgrKCyjV8IK0O\n",
              "XF0AHnJyeEA5CHDVfXpcLKaO6Co+C/KGf6HSuT3SqDA+2Bjxa8LMjguJFNgK5I7bNEN89+bRn/ls\n",
              "Uwpdt/ESOoRlVYA+EFn7DHGuDpTdUkfrMhQeFwEYHwi+XYcH12/mkVJ1IfB3OMcp0cEbH6J+y76a\n",
              "4eHTuXRP//gBk+2XSGyCMH7GXUor6WhkEPgaFuM7KNwR4/m27X4d3kTmVssMkhUlaseyrv9qwu3g\n",
              "XxrfX0xFcmXneCZmcpW0lIpammUiAYLLh4PRSTeju6d/etH8nweKjh4O6j22ndYJkvw8CH2l+fEH\n",
              "Vl0roifmZ3+s6KaSQ6hTL6iute1c61uCa1r1hgqNGw+9E6AVQeZUhO406Xf/IDpm4iMtzTUXqOmC\n",
              "UQchP0ySBrv7x+xP3+T30uaRdxrYDM9cNxMkj0S4qQHT7Ag9wII9dBe2+4H3YZCdM+n5bHrGF2Ic\n",
              "cU38usOVeuFg5Blg2YsPYaVFW65CTJGZZzKXUKPdV8fYJwLbw/LZN2xH7Cxvg5fYdtBH9NYc3d9s\n",
              "lfaY1nAkQg9UeaJkC5mQS6mH2yBkm38kQYzxP69YT+C/biuFjNHFLKXRIU4/PmuocRd7I7efpWwN\n",
              "1Tjc3NkiCUQz3cXiVFc4eRx5lLMxraJBSGEBKCmdBnR1VcHkl3a6SlS/+5nkr0CptcTmyL+vxRcX\n",
              "pxQ/M+m1ROXtIKs8uRbGFWe3351uTS0zFepWsbC7ydVAoeICSKgZkP3RhKcPO/A3liAdbTviHRZK\n",
              "228l47YjnEfL5tn6AL6XZd4axV4TLeMQxfHK5Www9BOjcPim7ZK2pYWKncIT62tPNSE2X37HaFyw\n",
              "sdOruoF1JldY3hPSV7q0NgpXUidvjZySBm1Fix31kJ1br3j0mvnxEnH+vNq5MgSFwDGMwDMq8mJO\n",
              "1f6UeLsOjYlI0O7PfzSV5UNQlnkZCgdDK8ndd0XH4aOnXwAAAJBBnmNqU8M/ACC672Z4X2eSS5wb\n",
              "LXKr8gEgJOufcZLyEoAS1bwK7K8Hpy8HWjU7iRQ9Nt1lJc7nxgIHTp81EzFLIYdQm3J91TNvKNdg\n",
              "Mqzyyd0yBVlDj+JsAQMGYTA0t5TaAebqRTwH3WqvZ1nr4dwe4IqBgQrfkAkGL+KW9QkXPyBdEGCw\n",
              "/FC1IWwFVIMuvWAAAAB9AZ6CdEK/ADy8CYk+9CaA3DrsamC4cR/bIATV5zQNsipwPc9IrRQawRs5\n",
              "xzoc5DRbTig5wcODGzIwg2km0rwM4MPbVVAwsT/h1NJLxrWmTbSgiXMHhEXE60Ffe6XGj+wz/Xo1\n",
              "/5j3fKH2FmL1rzDFx4H+YjTvvX9Ve4yy6gkAAACBAZ6EakK/ADzMp+hvpdrGkSBkrxeAepQgATt5\n",
              "VBLIcmYfsfwwmZPdqxbiQT/4G1faT5KfsL/PKHZz8oOkLjC+JacWxTH9IiMrcnOTmDw7p1OUiTcQ\n",
              "VE6+fNzWOYocK4oSQjaxwMwem9n9vyCrpu3D3atA5YmcP3I1T/RC3BEFYXxJAAABGEGahkmoQWiZ\n",
              "TAh///6plgAE4WbnRXvQBCPkStmC8I58y6Xhxf/9OjL9fPO7l/0sKTslsgNj7zAt/8+txNg3/xcC\n",
              "OjyQA72uf4y2+5AXgkOie1LhTkBJRv9eQ8daIGhRVIUElqJ9DDmPVeStf8MEuepeam8Hn0i596rh\n",
              "Eigk7XJzyH2GgduFnAVYpu+Rt10kwQpQbWDz7vPoqR0RhcfEDqOPLZa+5MKbtaD7RfJZwRy6Q77u\n",
              "X2iunE5F5ydUAZfxsl/JxvIBoD6ihrN/nCWwH7n6IaP2IJHx5DO7RPMBZ3nOyktFFx1k3nMOj9Kc\n",
              "XZ35qH7v7ITS5HyL8E+rfewpanwN9LueoqN5cJMnkWmDhCBdP3scmt5inXkAAADiQZqqSeEKUmUw\n",
              "Id/+qZYAAyrGIa0ogvcANwdg3raW9Cfsy9qu2CUE60u1u+HsaYEmd5RQZE+IwC+p+4ClxRXGF5tT\n",
              "e5IpJWnHXuYM3yPOo+HYLIYBuGYMJ47aidElVd9E6NUjExOqDAlf+/L6XEQa05NyJed03QtLGqe+\n",
              "KzJ9xvXX0im+1u6l5NyRuJc4gzLFVRGzCZuIDZvdooIcCy5mVU9ubJi0mZRJpVhg+qwC6jgjmBVc\n",
              "NgAYEx0QY5V6tc1gnxknl+XXAmF9OSfZT3g7Z/kV64rvIYEdCbWrHXme6V57IQAAAEdBnshFNEwz\n",
              "/wAguQXbekrUnMSHo/8Fkx/UIQAF1HLl9Y88V6tqx5yAqnEpzy4I08oUGoQj6rH8sZtrNaGclc3O\n",
              "GCKsTryGFAAAAD0Bnud0Qr8APLwH59Gj6bPdNwg4ACzZqBXbZgGj/wj6JkOepUCh/JVdcxC24WBk\n",
              "75A1c1FV1BRLDii9nE4aAAAANQGe6WpCvwA8zKfob6XayG8GpGtemOgAh8w/dpTPLoRzk8DLPNqS\n",
              "JuUB13syvZZiLZDeaHfBAAAAV0Ga7EmoQWiZTBTw//6plgADPRgVEMHykePJgBa5UhajKC4fUi0V\n",
              "MsAl1tD9VAqHG7RyTgumiDBY6UuPoRyZ6O2sjJ6CQgCWueJWGDsdvxRxAVb9HeXJjwAAACoBnwtq\n",
              "Qr8APNXpry6k3yycANWSAL8/J+hpI39BjbGLE7ek1YqHHY7SBQsAAAB7QZsQSeEKUmUwIf/+qZYA\n",
              "Az4Pcjh31ADowOXybUVn00zP27aX7BG28HuFz2Nai7W7FTan4QM9AXgFp4Rvr/J/eY91z0NF68c8\n",
              "nlDFsYDB3/RcNHrr/GfyLUDktqUwrg8aNo3hF0XCYAtHiB/izEH9RVCnOqvPPBrfwQhhAAAAL0Gf\n",
              "LkU0TDP/ACC5Bdt6StScxViwWmq8QAtwCo4APHsgz8ZCZJ0tEN2nVC5JaWVLAAAAHAGfTXRCvwA8\n",
              "vAfn0aPpuA+R3mUZNSFeSXOeEh8AAAAXAZ9PakK/ADzMp+hvpdrJiJtI7Nd64YAAAAA7QZtUSahB\n",
              "aJlMCH///qmWAAM+FZnyKcwBHyErfo3sf8+xhSVN4+cRkeKQx1ed4fWgaFGOEvSPxAqdGuAAAAAe\n",
              "QZ9yRREsM/8AILrvO3ceGqGLAoLGwp7qnYjs5VgJAAAAFwGfkXRCvwA8vAfn0aPpt1Mcj1uHvmWA\n",
              "AAAAEQGfk2pCvwA8zKfob6XaoQwIAAAALEGbmEmoQWyZTAh///6plgADPSEgpQBYfUUO2LG7kUMo\n",
              "wKx8gk15TSUpKLNTAAAAFkGftkUVLDP/ACC67zt3HhqhOj4isWgAAAARAZ/VdEK/ADy8B+fRo+kx\n",
              "KCEAAAARAZ/XakK/ADzMp+hvpdqhDAkAAAAnQZvcSahBbJlMCH///qmWAAM89UHwA44mVYuEJeA5\n",
              "bXWQdNxlIs1IAAAAFkGf+kUVLDP/ACC67zt3HhqhOj4isWkAAAARAZ4ZdEK/ADy8B+fRo+kxKCAA\n",
              "AAARAZ4bakK/ADzMp+hvpdqhDAkAAAAdQZoASahBbJlMCH///qmWAAM89UHwA4wHAidh4qcAAAAW\n",
              "QZ4+RRUsM/8AILrvO3ceGqE6PiKxaAAAABEBnl10Qr8APLwH59Gj6TEoIAAAABEBnl9qQr8APMyn\n",
              "6G+l2qEMCQAAABdBmkRJqEFsmUwId//+qZYAAZ5tdw0soAAAABhBnmJFFSwz/wAguu87dx4aoY2Y\n",
              "358ryLkAAAARAZ6BdEK/ADy8B+fRo+kxKCAAAAARAZ6DakK/ADzMp+hvpdqhDAkAAAAXQZqISahB\n",
              "bJlMCHf//qmWAAM82u4aLKEAAAAYQZ6mRRUsM/8AILrvO3ceGqGNmN+fK8i5AAAAEQGexXRCvwA8\n",
              "vAfn0aPpMSghAAAAEQGex2pCvwA8zKfob6XaoQwIAAAAFUGazEmoQWyZTAh3//6plgAAAwDwgAAA\n",
              "ABhBnupFFSwz/wAguu87dx4aoY2Y358ryLkAAAARAZ8JdEK/ADy8B+fRo+kxKCAAAAARAZ8LakK/\n",
              "ADzMp+hvpdqhDAgAAAATQZsQSahBbJlMCGf//p4QAAAHTQAAABhBny5FFSwz/wAguu87dx4aoY2Y\n",
              "358ryLkAAAARAZ9NdEK/ADy8B+fRo+kxKCEAAAARAZ9PakK/ADzMp+hvpdqhDAgAAAATQZtRSahB\n",
              "bJlMCFf//jhAAAAccAAABX5tb292AAAAbG12aGQAAAAAAAAAAAAAAAAAAAPoAAAJxAABAAABAAAA\n",
              "AAAAAAAAAAAAAQAAAAAAAAAAAAAAAAAAAAEAAAAAAAAAAAAAAAAAAEAAAAAAAAAAAAAAAAAAAAAA\n",
              "AAAAAAAAAAAAAAAAAAACAAAEqHRyYWsAAABcdGtoZAAAAAMAAAAAAAAAAAAAAAEAAAAAAAAJxAAA\n",
              "AAAAAAAAAAAAAAAAAAAAAQAAAAAAAAAAAAAAAAAAAAEAAAAAAAAAAAAAAAAAAEAAAAABsAAAASAA\n",
              "AAAAACRlZHRzAAAAHGVsc3QAAAAAAAAAAQAACcQAAAQAAAEAAAAABCBtZGlhAAAAIG1kaGQAAAAA\n",
              "AAAAAAAAAAAAACgAAABkAFXEAAAAAAAtaGRscgAAAAAAAAAAdmlkZQAAAAAAAAAAAAAAAFZpZGVv\n",
              "SGFuZGxlcgAAAAPLbWluZgAAABR2bWhkAAAAAQAAAAAAAAAAAAAAJGRpbmYAAAAcZHJlZgAAAAAA\n",
              "AAABAAAADHVybCAAAAABAAADi3N0YmwAAACzc3RzZAAAAAAAAAABAAAAo2F2YzEAAAAAAAAAAQAA\n",
              "AAAAAAAAAAAAAAAAAAABsAEgAEgAAABIAAAAAAAAAAEAAAAAAAAAAAAAAAAAAAAAAAAAAAAAAAAA\n",
              "AAAAAAAAAAAY//8AAAAxYXZjQwFkABX/4QAYZ2QAFazZQbCWhAAAAwAEAAADAKA8WLZYAQAGaOvj\n",
              "yyLAAAAAHHV1aWRraEDyXyRPxbo5pRvPAyPzAAAAAAAAABhzdHRzAAAAAAAAAAEAAAAyAAACAAAA\n",
              "ABRzdHNzAAAAAAAAAAEAAAABAAABmGN0dHMAAAAAAAAAMQAAAAIAAAQAAAAAAQAACgAAAAABAAAE\n",
              "AAAAAAEAAAAAAAAAAQAAAgAAAAABAAAEAAAAAAEAAAoAAAAAAQAABAAAAAABAAAAAAAAAAEAAAIA\n",
              "AAAAAQAABgAAAAABAAACAAAAAAEAAAoAAAAAAQAABAAAAAABAAAAAAAAAAEAAAIAAAAAAQAACgAA\n",
              "AAABAAAEAAAAAAEAAAAAAAAAAQAAAgAAAAABAAAKAAAAAAEAAAQAAAAAAQAAAAAAAAABAAACAAAA\n",
              "AAEAAAoAAAAAAQAABAAAAAABAAAAAAAAAAEAAAIAAAAAAQAACgAAAAABAAAEAAAAAAEAAAAAAAAA\n",
              "AQAAAgAAAAABAAAKAAAAAAEAAAQAAAAAAQAAAAAAAAABAAACAAAAAAEAAAoAAAAAAQAABAAAAAAB\n",
              "AAAAAAAAAAEAAAIAAAAAAQAACgAAAAABAAAEAAAAAAEAAAAAAAAAAQAAAgAAAAABAAAKAAAAAAEA\n",
              "AAQAAAAAAQAAAAAAAAABAAACAAAAAAEAAAQAAAAAHHN0c2MAAAAAAAAAAQAAAAEAAAAyAAAAAQAA\n",
              "ANxzdHN6AAAAAAAAAAAAAAAyAAAPbgAAB1gAAAfqAAAAlAAAAIEAAACFAAABHAAAAOYAAABLAAAA\n",
              "QQAAADkAAABbAAAALgAAAH8AAAAzAAAAIAAAABsAAAA/AAAAIgAAABsAAAAVAAAAMAAAABoAAAAV\n",
              "AAAAFQAAACsAAAAaAAAAFQAAABUAAAAhAAAAGgAAABUAAAAVAAAAGwAAABwAAAAVAAAAFQAAABsA\n",
              "AAAcAAAAFQAAABUAAAAZAAAAHAAAABUAAAAVAAAAFwAAABwAAAAVAAAAFQAAABcAAAAUc3RjbwAA\n",
              "AAAAAAABAAAALAAAAGJ1ZHRhAAAAWm1ldGEAAAAAAAAAIWhkbHIAAAAAAAAAAG1kaXJhcHBsAAAA\n",
              "AAAAAAAAAAAALWlsc3QAAAAlqXRvbwAAAB1kYXRhAAAAAQAAAABMYXZmNTcuODMuMTAw\n",
              "\">\n",
              "  Your browser does not support the video tag.\n",
              "</video>"
            ],
            "text/plain": [
              "<IPython.core.display.HTML object>"
            ]
          },
          "metadata": {
            "tags": []
          },
          "execution_count": 85
        },
        {
          "output_type": "display_data",
          "data": {
            "image/png": "[encoded data removed]",
            "text/plain": [
              "<Figure size 432x288 with 1 Axes>"
            ]
          },
          "metadata": {
            "tags": []
          }
        }
      ]
    },
    {
      "cell_type": "markdown",
      "metadata": {
        "id": "l1Yeshrgjiqo",
        "colab_type": "text"
      },
      "source": [
        "# 4. Extra points\n",
        "4.1. Implement an additional integrator, RK4, and test it with the bead-on-the-wire example. ** **write your code below (5 pts)**  **"
      ]
    },
    {
      "cell_type": "code",
      "metadata": {
        "id": "hJpwdChbkDvj",
        "colab_type": "code",
        "colab": {}
      },
      "source": [
        "class RK4Solver(object):\n",
        "  def __init__(self):\n",
        "    pass\n",
        "\n",
        "  def step(self, system, t, dt):    # pass\n",
        "    temp = system.get_state()\n",
        "    temp1 = temp.copy()    \n",
        "    temp2 = temp.copy() \n",
        "    temp3 = temp.copy()\n",
        "\n",
        "    k1 = dt * system.get_derivative()\n",
        "\n",
        "    temp1 = temp1 + k1/2\n",
        "    system.set_state(temp1)\n",
        "    k2 = dt * system.get_derivative()\n",
        "\n",
        "    temp2 = temp2 + k2/2\n",
        "    system.set_state(temp2)\n",
        "    k3 = dt * system.get_derivative()\n",
        "\n",
        "    temp3 = temp3 + k3\n",
        "    system.set_state(temp3)\n",
        "    k4 = dt * system.get_derivative()\n",
        "\n",
        "    final = temp + k1/6 + k2/3 + k3/3 + k4/6\n",
        "    system.set_state(final)\n"
      ],
      "execution_count": 0,
      "outputs": []
    },
    {
      "cell_type": "markdown",
      "metadata": {
        "id": "9c8BNwlXkQnL",
        "colab_type": "text"
      },
      "source": [
        "4.2. Implement an additional integrator, implicit Euler, and verify that you can take a large step on the bead-on-the-wire system. (hint: you may need to implement new member functions to the system.) ** **write your code below (5 pts)**  **"
      ]
    },
    {
      "cell_type": "code",
      "metadata": {
        "id": "EVhpewmCkv7X",
        "colab_type": "code",
        "colab": {}
      },
      "source": [
        "class ImplicitEulerSolver(object):\n",
        "  def __init__(self):\n",
        "    pass\n",
        "    \n",
        "  def step(self, system, t, dt):\n",
        "    # pass\n",
        "    temp = system.get_state()\n",
        "\n",
        "    deriv1 = system.get_derivative()\n",
        "\n",
        "    fprime = np.array([[-1, 0], [0, -k]])  \n",
        "    deltaf1 = np.array([[dt/(1+dt), 0], [0, dt/(1+k*dt)]])\n",
        "    deltaf = deltaf1.dot(deriv1)\n",
        "    new = temp + dt*deriv1+dt*(deltaf.dot(fprime))\n",
        "    system.set_state(new)\n"
      ],
      "execution_count": 0,
      "outputs": []
    }
  ]
}